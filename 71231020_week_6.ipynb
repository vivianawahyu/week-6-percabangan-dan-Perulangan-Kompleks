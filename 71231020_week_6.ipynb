{
  "nbformat": 4,
  "nbformat_minor": 0,
  "metadata": {
    "colab": {
      "provenance": []
    },
    "kernelspec": {
      "name": "python3",
      "display_name": "Python 3"
    },
    "language_info": {
      "name": "python"
    }
  },
  "cells": [
    {
      "cell_type": "markdown",
      "source": [],
      "metadata": {
        "id": "0VbFVaOmBxSJ"
      }
    },
    {
      "cell_type": "markdown",
      "source": [
        "soal 1\n"
      ],
      "metadata": {
        "id": "spcUKSHABX3U"
      }
    },
    {
      "cell_type": "code",
      "source": [
        "x = int(input(\"masukkan bilangan: \"))\n",
        "prima = False\n",
        "\n",
        "for i in range (x-1, 1, -1):\n",
        "    prima = True\n",
        "    for j in range (2, i -1):\n",
        "        if i % j == 0:\n",
        "            prima = False\n",
        "            break\n",
        "    if prima:\n",
        "        print(f\"prima terdekat dan kurang dari {x} yaitu {i}\")\n",
        "        break"
      ],
      "metadata": {
        "colab": {
          "base_uri": "https://localhost:8080/"
        },
        "id": "4EcO4CCUBan5",
        "outputId": "5a9e7072-9524-4471-b717-c6db5c9f34f6"
      },
      "execution_count": 1,
      "outputs": [
        {
          "output_type": "stream",
          "name": "stdout",
          "text": [
            "masukkan bilangan: 7\n",
            "prima terdekat dan kurang dari 7 yaitu 5\n"
          ]
        }
      ]
    },
    {
      "cell_type": "markdown",
      "source": [
        "soal 2"
      ],
      "metadata": {
        "id": "J_9b4DwGBjfc"
      }
    },
    {
      "cell_type": "code",
      "source": [
        "x = int(input(\"masukkan x: \"))\n",
        "for i in range(0, x):\n",
        "    hasil = 1\n",
        "    for j in range(1, x-1 + 1):\n",
        "        hasil *= j\n",
        "    print(hasil, \"  \", end=\"\")\n",
        "\n",
        "    for k in range(x-1, 0,-1):\n",
        "        print(k,\" \", end=\"\")\n",
        "    print()"
      ],
      "metadata": {
        "colab": {
          "base_uri": "https://localhost:8080/"
        },
        "id": "f5EGQLtKBkrI",
        "outputId": "8bc17acd-8e2c-407b-eb40-5c23a9be9f26"
      },
      "execution_count": 2,
      "outputs": [
        {
          "output_type": "stream",
          "name": "stdout",
          "text": [
            "masukkan x: 7\n",
            "720   6  5  4  3  2  1  \n",
            "720   6  5  4  3  2  1  \n",
            "720   6  5  4  3  2  1  \n",
            "720   6  5  4  3  2  1  \n",
            "720   6  5  4  3  2  1  \n",
            "720   6  5  4  3  2  1  \n",
            "720   6  5  4  3  2  1  \n"
          ]
        }
      ]
    },
    {
      "cell_type": "markdown",
      "source": [
        "soal 3"
      ],
      "metadata": {
        "id": "Qm2Ld_rHBq9m"
      }
    },
    {
      "cell_type": "code",
      "source": [
        "lebar = int(input(\"masukkan lebarnya: \"))\n",
        "tinggi = int(input(\"masukkan tingginya: \"))\n",
        "\n",
        "angka = 0\n",
        "for i in range (1, lebar+1):\n",
        "    for i in range (1, tinggi+1):\n",
        "        angka += 1\n",
        "        print(angka, \" \", end=\"\")\n",
        "    print()"
      ],
      "metadata": {
        "colab": {
          "base_uri": "https://localhost:8080/"
        },
        "id": "LOnPPI59BsJN",
        "outputId": "c93e7a08-ef1d-4e37-a168-55b01d864777"
      },
      "execution_count": 3,
      "outputs": [
        {
          "output_type": "stream",
          "name": "stdout",
          "text": [
            "masukkan lebarnya: 6\n",
            "masukkan tingginya: 4\n",
            "1  2  3  4  \n",
            "5  6  7  8  \n",
            "9  10  11  12  \n",
            "13  14  15  16  \n",
            "17  18  19  20  \n",
            "21  22  23  24  \n"
          ]
        }
      ]
    }
  ]
}